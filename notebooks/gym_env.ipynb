{
 "cells": [
  {
   "cell_type": "code",
   "execution_count": 4,
   "metadata": {},
   "outputs": [
    {
     "name": "stdout",
     "output_type": "stream",
     "text": [
      "/Users/mahmoud/_code\n"
     ]
    }
   ],
   "source": [
    "cd ../"
   ]
  },
  {
   "cell_type": "code",
   "execution_count": 34,
   "metadata": {},
   "outputs": [],
   "source": [
    "from gymlob.envs.market_replay_env import MarketReplayEnv\n",
    "from stable_baselines3 import A2C, DDPG, DQN, HER, PPO, SAC, TD3\n",
    "from stable_baselines3.common.env_checker import check_env\n",
    "\n",
    "import numpy as np\n",
    "import pandas as pd\n",
    "np.set_printoptions(suppress=True)"
   ]
  },
  {
   "cell_type": "markdown",
   "metadata": {},
   "source": [
    "# MarketReplayEnv Gym Environment"
   ]
  },
  {
   "cell_type": "code",
   "execution_count": 6,
   "metadata": {},
   "outputs": [],
   "source": [
    "SEED = 5422608"
   ]
  },
  {
   "cell_type": "code",
   "execution_count": 7,
   "metadata": {},
   "outputs": [],
   "source": [
    "client_order_info = {\n",
    "    \"direction\": \"BUY\",\n",
    "    \"quantity\": 5000,\n",
    "    \"duration\": 120,\n",
    "    \"benchmark\": \"arrival\"\n",
    "}"
   ]
  },
  {
   "cell_type": "code",
   "execution_count": 9,
   "metadata": {},
   "outputs": [
    {
     "name": "stdout",
     "output_type": "stream",
     "text": [
      "CPU times: user 5.1 s, sys: 3 s, total: 8.1 s\n",
      "Wall time: 7.59 s\n"
     ]
    }
   ],
   "source": [
    "%%time\n",
    "env = MarketReplayEnv(instrument='AAPL',\n",
    "                      date='2014-06-28',\n",
    "                      frequency='1s',\n",
    "                      num_levels=10,\n",
    "                      client_order_info=client_order_info,\n",
    "                      orderbook_file_path='/Users/mahmoud/_code/_air/lobmod/data/INTC_2015-01-01_2015-01-31_10/INTC_2015-01-02_34200000_57600000_orderbook_10.csv',\n",
    "                      orders_file_path='/Users/mahmoud/_code/_air/lobmod/data/INTC_2015-01-01_2015-01-31_10/INTC_2015-01-05_34200000_57600000_message_10.csv',\n",
    "                      _seed=SEED)"
   ]
  },
  {
   "cell_type": "code",
   "execution_count": 10,
   "metadata": {},
   "outputs": [
    {
     "data": {
      "text/plain": [
       "Timestamp('2014-06-28 09:30:00', freq='S')"
      ]
     },
     "execution_count": 10,
     "metadata": {},
     "output_type": "execute_result"
    }
   ],
   "source": [
    "env.current_time"
   ]
  },
  {
   "cell_type": "code",
   "execution_count": 11,
   "metadata": {},
   "outputs": [
    {
     "data": {
      "text/plain": [
       "Box(-inf, inf, (4,), float64)"
      ]
     },
     "execution_count": 11,
     "metadata": {},
     "output_type": "execute_result"
    }
   ],
   "source": [
    "env.observation_space"
   ]
  },
  {
   "cell_type": "code",
   "execution_count": 12,
   "metadata": {},
   "outputs": [
    {
     "data": {
      "text/plain": [
       "array([  41.28268349, 1177.7726619 ,    0.10452375,    0.34716735])"
      ]
     },
     "execution_count": 12,
     "metadata": {},
     "output_type": "execute_result"
    }
   ],
   "source": [
    "env.observation_space.sample()"
   ]
  },
  {
   "cell_type": "code",
   "execution_count": 13,
   "metadata": {},
   "outputs": [
    {
     "data": {
      "text/plain": [
       "Box(0.0, inf, (3,), float64)"
      ]
     },
     "execution_count": 13,
     "metadata": {},
     "output_type": "execute_result"
    }
   ],
   "source": [
    "env.action_space"
   ]
  },
  {
   "cell_type": "code",
   "execution_count": 14,
   "metadata": {},
   "outputs": [
    {
     "data": {
      "text/plain": [
       "array([   0.30468637,    0.29994712, 3129.2826658 ])"
      ]
     },
     "execution_count": 14,
     "metadata": {},
     "output_type": "execute_result"
    }
   ],
   "source": [
    "env.action_space.sample()"
   ]
  },
  {
   "cell_type": "code",
   "execution_count": 15,
   "metadata": {},
   "outputs": [
    {
     "data": {
      "text/plain": [
       "array([ 120.        , 5000.        ,    0.01      ,   -0.18110237])"
      ]
     },
     "execution_count": 15,
     "metadata": {},
     "output_type": "execute_result"
    }
   ],
   "source": [
    "env.reset()"
   ]
  },
  {
   "cell_type": "code",
   "execution_count": 16,
   "metadata": {},
   "outputs": [
    {
     "name": "stderr",
     "output_type": "stream",
     "text": [
      "/Users/mahmoud/anaconda3/lib/python3.7/site-packages/stable_baselines3/common/env_checker.py:232: UserWarning: We recommend you to use a symmetric and normalized Box action space (range=[-1, 1]) cf https://stable-baselines3.readthedocs.io/en/master/guide/rl_tips.html\n",
      "  \"We recommend you to use a symmetric and normalized Box action space (range=[-1, 1]) \"\n"
     ]
    }
   ],
   "source": [
    "check_env(env)"
   ]
  },
  {
   "cell_type": "code",
   "execution_count": 22,
   "metadata": {},
   "outputs": [
    {
     "data": {
      "text/html": [
       "<div>\n",
       "<style scoped>\n",
       "    .dataframe tbody tr th:only-of-type {\n",
       "        vertical-align: middle;\n",
       "    }\n",
       "\n",
       "    .dataframe tbody tr th {\n",
       "        vertical-align: top;\n",
       "    }\n",
       "\n",
       "    .dataframe thead th {\n",
       "        text-align: right;\n",
       "    }\n",
       "</style>\n",
       "<table border=\"1\" class=\"dataframe\">\n",
       "  <thead>\n",
       "    <tr style=\"text-align: right;\">\n",
       "      <th></th>\n",
       "      <th>mid_price</th>\n",
       "      <th>spread</th>\n",
       "      <th>order_volume_imbalance</th>\n",
       "      <th>ask_price_1</th>\n",
       "      <th>ask_size_1</th>\n",
       "      <th>bid_price_1</th>\n",
       "      <th>bid_size_1</th>\n",
       "      <th>ask_price_2</th>\n",
       "      <th>ask_size_2</th>\n",
       "      <th>bid_price_2</th>\n",
       "      <th>...</th>\n",
       "      <th>bid_price_8</th>\n",
       "      <th>bid_size_8</th>\n",
       "      <th>ask_price_9</th>\n",
       "      <th>ask_size_9</th>\n",
       "      <th>bid_price_9</th>\n",
       "      <th>bid_size_9</th>\n",
       "      <th>ask_price_10</th>\n",
       "      <th>ask_size_10</th>\n",
       "      <th>bid_price_10</th>\n",
       "      <th>bid_size_10</th>\n",
       "    </tr>\n",
       "    <tr>\n",
       "      <th>timestamp</th>\n",
       "      <th></th>\n",
       "      <th></th>\n",
       "      <th></th>\n",
       "      <th></th>\n",
       "      <th></th>\n",
       "      <th></th>\n",
       "      <th></th>\n",
       "      <th></th>\n",
       "      <th></th>\n",
       "      <th></th>\n",
       "      <th></th>\n",
       "      <th></th>\n",
       "      <th></th>\n",
       "      <th></th>\n",
       "      <th></th>\n",
       "      <th></th>\n",
       "      <th></th>\n",
       "      <th></th>\n",
       "      <th></th>\n",
       "      <th></th>\n",
       "      <th></th>\n",
       "    </tr>\n",
       "  </thead>\n",
       "  <tbody>\n",
       "    <tr>\n",
       "      <th>2014-06-28 15:52:43</th>\n",
       "      <td>36.355</td>\n",
       "      <td>0.01</td>\n",
       "      <td>-0.863693</td>\n",
       "      <td>36.36</td>\n",
       "      <td>5500</td>\n",
       "      <td>36.35</td>\n",
       "      <td>75200</td>\n",
       "      <td>36.37</td>\n",
       "      <td>11400</td>\n",
       "      <td>36.34</td>\n",
       "      <td>...</td>\n",
       "      <td>36.28</td>\n",
       "      <td>8800</td>\n",
       "      <td>36.44</td>\n",
       "      <td>54800</td>\n",
       "      <td>36.27</td>\n",
       "      <td>13800</td>\n",
       "      <td>36.45</td>\n",
       "      <td>17700</td>\n",
       "      <td>36.26</td>\n",
       "      <td>6200</td>\n",
       "    </tr>\n",
       "    <tr>\n",
       "      <th>2014-06-28 15:52:44</th>\n",
       "      <td>36.355</td>\n",
       "      <td>0.01</td>\n",
       "      <td>-0.868293</td>\n",
       "      <td>36.36</td>\n",
       "      <td>5400</td>\n",
       "      <td>36.35</td>\n",
       "      <td>76600</td>\n",
       "      <td>36.37</td>\n",
       "      <td>11300</td>\n",
       "      <td>36.34</td>\n",
       "      <td>...</td>\n",
       "      <td>36.28</td>\n",
       "      <td>8800</td>\n",
       "      <td>36.44</td>\n",
       "      <td>54800</td>\n",
       "      <td>36.27</td>\n",
       "      <td>13800</td>\n",
       "      <td>36.45</td>\n",
       "      <td>17700</td>\n",
       "      <td>36.26</td>\n",
       "      <td>6200</td>\n",
       "    </tr>\n",
       "    <tr>\n",
       "      <th>2014-06-28 15:52:45</th>\n",
       "      <td>36.355</td>\n",
       "      <td>0.01</td>\n",
       "      <td>-0.860294</td>\n",
       "      <td>36.36</td>\n",
       "      <td>5700</td>\n",
       "      <td>36.35</td>\n",
       "      <td>75900</td>\n",
       "      <td>36.37</td>\n",
       "      <td>11300</td>\n",
       "      <td>36.34</td>\n",
       "      <td>...</td>\n",
       "      <td>36.28</td>\n",
       "      <td>8800</td>\n",
       "      <td>36.44</td>\n",
       "      <td>54800</td>\n",
       "      <td>36.27</td>\n",
       "      <td>13800</td>\n",
       "      <td>36.45</td>\n",
       "      <td>17700</td>\n",
       "      <td>36.26</td>\n",
       "      <td>6400</td>\n",
       "    </tr>\n",
       "    <tr>\n",
       "      <th>2014-06-28 15:52:46</th>\n",
       "      <td>36.355</td>\n",
       "      <td>0.01</td>\n",
       "      <td>-0.859779</td>\n",
       "      <td>36.36</td>\n",
       "      <td>5700</td>\n",
       "      <td>36.35</td>\n",
       "      <td>75600</td>\n",
       "      <td>36.37</td>\n",
       "      <td>11300</td>\n",
       "      <td>36.34</td>\n",
       "      <td>...</td>\n",
       "      <td>36.28</td>\n",
       "      <td>8800</td>\n",
       "      <td>36.44</td>\n",
       "      <td>54800</td>\n",
       "      <td>36.27</td>\n",
       "      <td>13800</td>\n",
       "      <td>36.45</td>\n",
       "      <td>17700</td>\n",
       "      <td>36.26</td>\n",
       "      <td>6400</td>\n",
       "    </tr>\n",
       "    <tr>\n",
       "      <th>2014-06-28 15:52:47</th>\n",
       "      <td>36.355</td>\n",
       "      <td>0.01</td>\n",
       "      <td>-0.821256</td>\n",
       "      <td>36.36</td>\n",
       "      <td>7400</td>\n",
       "      <td>36.35</td>\n",
       "      <td>75400</td>\n",
       "      <td>36.37</td>\n",
       "      <td>17500</td>\n",
       "      <td>36.34</td>\n",
       "      <td>...</td>\n",
       "      <td>36.28</td>\n",
       "      <td>8800</td>\n",
       "      <td>36.44</td>\n",
       "      <td>54800</td>\n",
       "      <td>36.27</td>\n",
       "      <td>13800</td>\n",
       "      <td>36.45</td>\n",
       "      <td>17700</td>\n",
       "      <td>36.26</td>\n",
       "      <td>6400</td>\n",
       "    </tr>\n",
       "  </tbody>\n",
       "</table>\n",
       "<p>5 rows × 43 columns</p>\n",
       "</div>"
      ],
      "text/plain": [
       "                     mid_price  spread  order_volume_imbalance  ask_price_1  \\\n",
       "timestamp                                                                     \n",
       "2014-06-28 15:52:43     36.355    0.01               -0.863693        36.36   \n",
       "2014-06-28 15:52:44     36.355    0.01               -0.868293        36.36   \n",
       "2014-06-28 15:52:45     36.355    0.01               -0.860294        36.36   \n",
       "2014-06-28 15:52:46     36.355    0.01               -0.859779        36.36   \n",
       "2014-06-28 15:52:47     36.355    0.01               -0.821256        36.36   \n",
       "\n",
       "                     ask_size_1  bid_price_1  bid_size_1  ask_price_2  \\\n",
       "timestamp                                                               \n",
       "2014-06-28 15:52:43        5500        36.35       75200        36.37   \n",
       "2014-06-28 15:52:44        5400        36.35       76600        36.37   \n",
       "2014-06-28 15:52:45        5700        36.35       75900        36.37   \n",
       "2014-06-28 15:52:46        5700        36.35       75600        36.37   \n",
       "2014-06-28 15:52:47        7400        36.35       75400        36.37   \n",
       "\n",
       "                     ask_size_2  bid_price_2  ...  bid_price_8  bid_size_8  \\\n",
       "timestamp                                     ...                            \n",
       "2014-06-28 15:52:43       11400        36.34  ...        36.28        8800   \n",
       "2014-06-28 15:52:44       11300        36.34  ...        36.28        8800   \n",
       "2014-06-28 15:52:45       11300        36.34  ...        36.28        8800   \n",
       "2014-06-28 15:52:46       11300        36.34  ...        36.28        8800   \n",
       "2014-06-28 15:52:47       17500        36.34  ...        36.28        8800   \n",
       "\n",
       "                     ask_price_9  ask_size_9  bid_price_9  bid_size_9  \\\n",
       "timestamp                                                               \n",
       "2014-06-28 15:52:43        36.44       54800        36.27       13800   \n",
       "2014-06-28 15:52:44        36.44       54800        36.27       13800   \n",
       "2014-06-28 15:52:45        36.44       54800        36.27       13800   \n",
       "2014-06-28 15:52:46        36.44       54800        36.27       13800   \n",
       "2014-06-28 15:52:47        36.44       54800        36.27       13800   \n",
       "\n",
       "                     ask_price_10  ask_size_10  bid_price_10  bid_size_10  \n",
       "timestamp                                                                  \n",
       "2014-06-28 15:52:43         36.45        17700         36.26         6200  \n",
       "2014-06-28 15:52:44         36.45        17700         36.26         6200  \n",
       "2014-06-28 15:52:45         36.45        17700         36.26         6400  \n",
       "2014-06-28 15:52:46         36.45        17700         36.26         6400  \n",
       "2014-06-28 15:52:47         36.45        17700         36.26         6400  \n",
       "\n",
       "[5 rows x 43 columns]"
      ]
     },
     "execution_count": 22,
     "metadata": {},
     "output_type": "execute_result"
    }
   ],
   "source": [
    "env.orderbook_df.tail()"
   ]
  },
  {
   "cell_type": "code",
   "execution_count": 35,
   "metadata": {},
   "outputs": [],
   "source": [
    "allowed_timestamps = pd.date_range(start=env.timestamps[0], end=env.timestamps[-1] - np.timedelta64(120, 'm'), freq='1s')"
   ]
  },
  {
   "cell_type": "code",
   "execution_count": 36,
   "metadata": {},
   "outputs": [
    {
     "data": {
      "text/plain": [
       "DatetimeIndex(['2014-06-28 09:30:00', '2014-06-28 09:30:01',\n",
       "               '2014-06-28 09:30:02', '2014-06-28 09:30:03',\n",
       "               '2014-06-28 09:30:04', '2014-06-28 09:30:05',\n",
       "               '2014-06-28 09:30:06', '2014-06-28 09:30:07',\n",
       "               '2014-06-28 09:30:08', '2014-06-28 09:30:09',\n",
       "               ...\n",
       "               '2014-06-28 13:52:38', '2014-06-28 13:52:39',\n",
       "               '2014-06-28 13:52:40', '2014-06-28 13:52:41',\n",
       "               '2014-06-28 13:52:42', '2014-06-28 13:52:43',\n",
       "               '2014-06-28 13:52:44', '2014-06-28 13:52:45',\n",
       "               '2014-06-28 13:52:46', '2014-06-28 13:52:47'],\n",
       "              dtype='datetime64[ns]', length=15768, freq='S')"
      ]
     },
     "execution_count": 36,
     "metadata": {},
     "output_type": "execute_result"
    }
   ],
   "source": [
    "allowed_timestamps"
   ]
  },
  {
   "cell_type": "code",
   "execution_count": 33,
   "metadata": {},
   "outputs": [
    {
     "data": {
      "text/plain": [
       "Timestamp('2014-06-28 15:52:47', freq='S')"
      ]
     },
     "execution_count": 33,
     "metadata": {},
     "output_type": "execute_result"
    }
   ],
   "source": [
    "env.timestamps[-1]"
   ]
  },
  {
   "cell_type": "code",
   "execution_count": 31,
   "metadata": {},
   "outputs": [
    {
     "data": {
      "text/plain": [
       "Timestamp('2014-06-28 09:30:00', freq='S')"
      ]
     },
     "execution_count": 31,
     "metadata": {},
     "output_type": "execute_result"
    }
   ],
   "source": [
    "start_time"
   ]
  },
  {
   "cell_type": "code",
   "execution_count": 32,
   "metadata": {},
   "outputs": [
    {
     "data": {
      "text/plain": [
       "Timestamp('2014-06-28 17:52:47', freq='S')"
      ]
     },
     "execution_count": 32,
     "metadata": {},
     "output_type": "execute_result"
    }
   ],
   "source": [
    "end_time"
   ]
  },
  {
   "cell_type": "code",
   "execution_count": 20,
   "metadata": {},
   "outputs": [
    {
     "ename": "KeyError",
     "evalue": "numpy.datetime64('2015-01-02T15:52:48.000000000')",
     "output_type": "error",
     "traceback": [
      "\u001b[0;31m---------------------------------------------------------------------------\u001b[0m",
      "\u001b[0;31mKeyError\u001b[0m                                  Traceback (most recent call last)",
      "\u001b[0;32mpandas/_libs/index.pyx\u001b[0m in \u001b[0;36mpandas._libs.index.DatetimeEngine.get_loc\u001b[0;34m()\u001b[0m\n",
      "\u001b[0;32mpandas/_libs/hashtable_class_helper.pxi\u001b[0m in \u001b[0;36mpandas._libs.hashtable.Int64HashTable.get_item\u001b[0;34m()\u001b[0m\n",
      "\u001b[0;32mpandas/_libs/hashtable_class_helper.pxi\u001b[0m in \u001b[0;36mpandas._libs.hashtable.Int64HashTable.get_item\u001b[0;34m()\u001b[0m\n",
      "\u001b[0;31mKeyError\u001b[0m: 1420213968000000000",
      "\nDuring handling of the above exception, another exception occurred:\n",
      "\u001b[0;31mKeyError\u001b[0m                                  Traceback (most recent call last)",
      "\u001b[0;32m~/anaconda3/lib/python3.7/site-packages/pandas/core/indexes/base.py\u001b[0m in \u001b[0;36mget_loc\u001b[0;34m(self, key, method, tolerance)\u001b[0m\n\u001b[1;32m   3079\u001b[0m             \u001b[0;32mtry\u001b[0m\u001b[0;34m:\u001b[0m\u001b[0;34m\u001b[0m\u001b[0;34m\u001b[0m\u001b[0m\n\u001b[0;32m-> 3080\u001b[0;31m                 \u001b[0;32mreturn\u001b[0m \u001b[0mself\u001b[0m\u001b[0;34m.\u001b[0m\u001b[0m_engine\u001b[0m\u001b[0;34m.\u001b[0m\u001b[0mget_loc\u001b[0m\u001b[0;34m(\u001b[0m\u001b[0mcasted_key\u001b[0m\u001b[0;34m)\u001b[0m\u001b[0;34m\u001b[0m\u001b[0;34m\u001b[0m\u001b[0m\n\u001b[0m\u001b[1;32m   3081\u001b[0m             \u001b[0;32mexcept\u001b[0m \u001b[0mKeyError\u001b[0m \u001b[0;32mas\u001b[0m \u001b[0merr\u001b[0m\u001b[0;34m:\u001b[0m\u001b[0;34m\u001b[0m\u001b[0;34m\u001b[0m\u001b[0m\n",
      "\u001b[0;32mpandas/_libs/index.pyx\u001b[0m in \u001b[0;36mpandas._libs.index.DatetimeEngine.get_loc\u001b[0;34m()\u001b[0m\n",
      "\u001b[0;32mpandas/_libs/index.pyx\u001b[0m in \u001b[0;36mpandas._libs.index.DatetimeEngine.get_loc\u001b[0;34m()\u001b[0m\n",
      "\u001b[0;31mKeyError\u001b[0m: Timestamp('2015-01-02 15:52:48')",
      "\nThe above exception was the direct cause of the following exception:\n",
      "\u001b[0;31mKeyError\u001b[0m                                  Traceback (most recent call last)",
      "\u001b[0;32m~/anaconda3/lib/python3.7/site-packages/pandas/core/indexes/datetimes.py\u001b[0m in \u001b[0;36mget_loc\u001b[0;34m(self, key, method, tolerance)\u001b[0m\n\u001b[1;32m    685\u001b[0m         \u001b[0;32mtry\u001b[0m\u001b[0;34m:\u001b[0m\u001b[0;34m\u001b[0m\u001b[0;34m\u001b[0m\u001b[0m\n\u001b[0;32m--> 686\u001b[0;31m             \u001b[0;32mreturn\u001b[0m \u001b[0mIndex\u001b[0m\u001b[0;34m.\u001b[0m\u001b[0mget_loc\u001b[0m\u001b[0;34m(\u001b[0m\u001b[0mself\u001b[0m\u001b[0;34m,\u001b[0m \u001b[0mkey\u001b[0m\u001b[0;34m,\u001b[0m \u001b[0mmethod\u001b[0m\u001b[0;34m,\u001b[0m \u001b[0mtolerance\u001b[0m\u001b[0;34m)\u001b[0m\u001b[0;34m\u001b[0m\u001b[0;34m\u001b[0m\u001b[0m\n\u001b[0m\u001b[1;32m    687\u001b[0m         \u001b[0;32mexcept\u001b[0m \u001b[0mKeyError\u001b[0m \u001b[0;32mas\u001b[0m \u001b[0merr\u001b[0m\u001b[0;34m:\u001b[0m\u001b[0;34m\u001b[0m\u001b[0;34m\u001b[0m\u001b[0m\n",
      "\u001b[0;32m~/anaconda3/lib/python3.7/site-packages/pandas/core/indexes/base.py\u001b[0m in \u001b[0;36mget_loc\u001b[0;34m(self, key, method, tolerance)\u001b[0m\n\u001b[1;32m   3081\u001b[0m             \u001b[0;32mexcept\u001b[0m \u001b[0mKeyError\u001b[0m \u001b[0;32mas\u001b[0m \u001b[0merr\u001b[0m\u001b[0;34m:\u001b[0m\u001b[0;34m\u001b[0m\u001b[0;34m\u001b[0m\u001b[0m\n\u001b[0;32m-> 3082\u001b[0;31m                 \u001b[0;32mraise\u001b[0m \u001b[0mKeyError\u001b[0m\u001b[0;34m(\u001b[0m\u001b[0mkey\u001b[0m\u001b[0;34m)\u001b[0m \u001b[0;32mfrom\u001b[0m \u001b[0merr\u001b[0m\u001b[0;34m\u001b[0m\u001b[0;34m\u001b[0m\u001b[0m\n\u001b[0m\u001b[1;32m   3083\u001b[0m \u001b[0;34m\u001b[0m\u001b[0m\n",
      "\u001b[0;31mKeyError\u001b[0m: Timestamp('2015-01-02 15:52:48')",
      "\nThe above exception was the direct cause of the following exception:\n",
      "\u001b[0;31mKeyError\u001b[0m                                  Traceback (most recent call last)",
      "\u001b[0;32m<ipython-input-20-d133572a1f4c>\u001b[0m in \u001b[0;36m<module>\u001b[0;34m\u001b[0m\n\u001b[0;32m----> 1\u001b[0;31m \u001b[0menv\u001b[0m\u001b[0;34m.\u001b[0m\u001b[0morderbook_df\u001b[0m\u001b[0;34m.\u001b[0m\u001b[0mloc\u001b[0m\u001b[0;34m[\u001b[0m\u001b[0mnp\u001b[0m\u001b[0;34m.\u001b[0m\u001b[0mdatetime64\u001b[0m\u001b[0;34m(\u001b[0m\u001b[0;34m'2015-01-02T15:52:48.000000000'\u001b[0m\u001b[0;34m)\u001b[0m\u001b[0;34m]\u001b[0m\u001b[0;34m\u001b[0m\u001b[0;34m\u001b[0m\u001b[0m\n\u001b[0m",
      "\u001b[0;32m~/anaconda3/lib/python3.7/site-packages/pandas/core/indexing.py\u001b[0m in \u001b[0;36m__getitem__\u001b[0;34m(self, key)\u001b[0m\n\u001b[1;32m    893\u001b[0m \u001b[0;34m\u001b[0m\u001b[0m\n\u001b[1;32m    894\u001b[0m             \u001b[0mmaybe_callable\u001b[0m \u001b[0;34m=\u001b[0m \u001b[0mcom\u001b[0m\u001b[0;34m.\u001b[0m\u001b[0mapply_if_callable\u001b[0m\u001b[0;34m(\u001b[0m\u001b[0mkey\u001b[0m\u001b[0;34m,\u001b[0m \u001b[0mself\u001b[0m\u001b[0;34m.\u001b[0m\u001b[0mobj\u001b[0m\u001b[0;34m)\u001b[0m\u001b[0;34m\u001b[0m\u001b[0;34m\u001b[0m\u001b[0m\n\u001b[0;32m--> 895\u001b[0;31m             \u001b[0;32mreturn\u001b[0m \u001b[0mself\u001b[0m\u001b[0;34m.\u001b[0m\u001b[0m_getitem_axis\u001b[0m\u001b[0;34m(\u001b[0m\u001b[0mmaybe_callable\u001b[0m\u001b[0;34m,\u001b[0m \u001b[0maxis\u001b[0m\u001b[0;34m=\u001b[0m\u001b[0maxis\u001b[0m\u001b[0;34m)\u001b[0m\u001b[0;34m\u001b[0m\u001b[0;34m\u001b[0m\u001b[0m\n\u001b[0m\u001b[1;32m    896\u001b[0m \u001b[0;34m\u001b[0m\u001b[0m\n\u001b[1;32m    897\u001b[0m     \u001b[0;32mdef\u001b[0m \u001b[0m_is_scalar_access\u001b[0m\u001b[0;34m(\u001b[0m\u001b[0mself\u001b[0m\u001b[0;34m,\u001b[0m \u001b[0mkey\u001b[0m\u001b[0;34m:\u001b[0m \u001b[0mTuple\u001b[0m\u001b[0;34m)\u001b[0m\u001b[0;34m:\u001b[0m\u001b[0;34m\u001b[0m\u001b[0;34m\u001b[0m\u001b[0m\n",
      "\u001b[0;32m~/anaconda3/lib/python3.7/site-packages/pandas/core/indexing.py\u001b[0m in \u001b[0;36m_getitem_axis\u001b[0;34m(self, key, axis)\u001b[0m\n\u001b[1;32m   1122\u001b[0m         \u001b[0;31m# fall thru to straight lookup\u001b[0m\u001b[0;34m\u001b[0m\u001b[0;34m\u001b[0m\u001b[0;34m\u001b[0m\u001b[0m\n\u001b[1;32m   1123\u001b[0m         \u001b[0mself\u001b[0m\u001b[0;34m.\u001b[0m\u001b[0m_validate_key\u001b[0m\u001b[0;34m(\u001b[0m\u001b[0mkey\u001b[0m\u001b[0;34m,\u001b[0m \u001b[0maxis\u001b[0m\u001b[0;34m)\u001b[0m\u001b[0;34m\u001b[0m\u001b[0;34m\u001b[0m\u001b[0m\n\u001b[0;32m-> 1124\u001b[0;31m         \u001b[0;32mreturn\u001b[0m \u001b[0mself\u001b[0m\u001b[0;34m.\u001b[0m\u001b[0m_get_label\u001b[0m\u001b[0;34m(\u001b[0m\u001b[0mkey\u001b[0m\u001b[0;34m,\u001b[0m \u001b[0maxis\u001b[0m\u001b[0;34m=\u001b[0m\u001b[0maxis\u001b[0m\u001b[0;34m)\u001b[0m\u001b[0;34m\u001b[0m\u001b[0;34m\u001b[0m\u001b[0m\n\u001b[0m\u001b[1;32m   1125\u001b[0m \u001b[0;34m\u001b[0m\u001b[0m\n\u001b[1;32m   1126\u001b[0m     \u001b[0;32mdef\u001b[0m \u001b[0m_get_slice_axis\u001b[0m\u001b[0;34m(\u001b[0m\u001b[0mself\u001b[0m\u001b[0;34m,\u001b[0m \u001b[0mslice_obj\u001b[0m\u001b[0;34m:\u001b[0m \u001b[0mslice\u001b[0m\u001b[0;34m,\u001b[0m \u001b[0maxis\u001b[0m\u001b[0;34m:\u001b[0m \u001b[0mint\u001b[0m\u001b[0;34m)\u001b[0m\u001b[0;34m:\u001b[0m\u001b[0;34m\u001b[0m\u001b[0;34m\u001b[0m\u001b[0m\n",
      "\u001b[0;32m~/anaconda3/lib/python3.7/site-packages/pandas/core/indexing.py\u001b[0m in \u001b[0;36m_get_label\u001b[0;34m(self, label, axis)\u001b[0m\n\u001b[1;32m   1071\u001b[0m     \u001b[0;32mdef\u001b[0m \u001b[0m_get_label\u001b[0m\u001b[0;34m(\u001b[0m\u001b[0mself\u001b[0m\u001b[0;34m,\u001b[0m \u001b[0mlabel\u001b[0m\u001b[0;34m,\u001b[0m \u001b[0maxis\u001b[0m\u001b[0;34m:\u001b[0m \u001b[0mint\u001b[0m\u001b[0;34m)\u001b[0m\u001b[0;34m:\u001b[0m\u001b[0;34m\u001b[0m\u001b[0;34m\u001b[0m\u001b[0m\n\u001b[1;32m   1072\u001b[0m         \u001b[0;31m# GH#5667 this will fail if the label is not present in the axis.\u001b[0m\u001b[0;34m\u001b[0m\u001b[0;34m\u001b[0m\u001b[0;34m\u001b[0m\u001b[0m\n\u001b[0;32m-> 1073\u001b[0;31m         \u001b[0;32mreturn\u001b[0m \u001b[0mself\u001b[0m\u001b[0;34m.\u001b[0m\u001b[0mobj\u001b[0m\u001b[0;34m.\u001b[0m\u001b[0mxs\u001b[0m\u001b[0;34m(\u001b[0m\u001b[0mlabel\u001b[0m\u001b[0;34m,\u001b[0m \u001b[0maxis\u001b[0m\u001b[0;34m=\u001b[0m\u001b[0maxis\u001b[0m\u001b[0;34m)\u001b[0m\u001b[0;34m\u001b[0m\u001b[0;34m\u001b[0m\u001b[0m\n\u001b[0m\u001b[1;32m   1074\u001b[0m \u001b[0;34m\u001b[0m\u001b[0m\n\u001b[1;32m   1075\u001b[0m     \u001b[0;32mdef\u001b[0m \u001b[0m_handle_lowerdim_multi_index_axis0\u001b[0m\u001b[0;34m(\u001b[0m\u001b[0mself\u001b[0m\u001b[0;34m,\u001b[0m \u001b[0mtup\u001b[0m\u001b[0;34m:\u001b[0m \u001b[0mTuple\u001b[0m\u001b[0;34m)\u001b[0m\u001b[0;34m:\u001b[0m\u001b[0;34m\u001b[0m\u001b[0;34m\u001b[0m\u001b[0m\n",
      "\u001b[0;32m~/anaconda3/lib/python3.7/site-packages/pandas/core/generic.py\u001b[0m in \u001b[0;36mxs\u001b[0;34m(self, key, axis, level, drop_level)\u001b[0m\n\u001b[1;32m   3737\u001b[0m                 \u001b[0;32mraise\u001b[0m \u001b[0mTypeError\u001b[0m\u001b[0;34m(\u001b[0m\u001b[0;34mf\"Expected label or tuple of labels, got {key}\"\u001b[0m\u001b[0;34m)\u001b[0m \u001b[0;32mfrom\u001b[0m \u001b[0me\u001b[0m\u001b[0;34m\u001b[0m\u001b[0;34m\u001b[0m\u001b[0m\n\u001b[1;32m   3738\u001b[0m         \u001b[0;32melse\u001b[0m\u001b[0;34m:\u001b[0m\u001b[0;34m\u001b[0m\u001b[0;34m\u001b[0m\u001b[0m\n\u001b[0;32m-> 3739\u001b[0;31m             \u001b[0mloc\u001b[0m \u001b[0;34m=\u001b[0m \u001b[0mindex\u001b[0m\u001b[0;34m.\u001b[0m\u001b[0mget_loc\u001b[0m\u001b[0;34m(\u001b[0m\u001b[0mkey\u001b[0m\u001b[0;34m)\u001b[0m\u001b[0;34m\u001b[0m\u001b[0;34m\u001b[0m\u001b[0m\n\u001b[0m\u001b[1;32m   3740\u001b[0m \u001b[0;34m\u001b[0m\u001b[0m\n\u001b[1;32m   3741\u001b[0m             \u001b[0;32mif\u001b[0m \u001b[0misinstance\u001b[0m\u001b[0;34m(\u001b[0m\u001b[0mloc\u001b[0m\u001b[0;34m,\u001b[0m \u001b[0mnp\u001b[0m\u001b[0;34m.\u001b[0m\u001b[0mndarray\u001b[0m\u001b[0;34m)\u001b[0m\u001b[0;34m:\u001b[0m\u001b[0;34m\u001b[0m\u001b[0;34m\u001b[0m\u001b[0m\n",
      "\u001b[0;32m~/anaconda3/lib/python3.7/site-packages/pandas/core/indexes/datetimes.py\u001b[0m in \u001b[0;36mget_loc\u001b[0;34m(self, key, method, tolerance)\u001b[0m\n\u001b[1;32m    686\u001b[0m             \u001b[0;32mreturn\u001b[0m \u001b[0mIndex\u001b[0m\u001b[0;34m.\u001b[0m\u001b[0mget_loc\u001b[0m\u001b[0;34m(\u001b[0m\u001b[0mself\u001b[0m\u001b[0;34m,\u001b[0m \u001b[0mkey\u001b[0m\u001b[0;34m,\u001b[0m \u001b[0mmethod\u001b[0m\u001b[0;34m,\u001b[0m \u001b[0mtolerance\u001b[0m\u001b[0;34m)\u001b[0m\u001b[0;34m\u001b[0m\u001b[0;34m\u001b[0m\u001b[0m\n\u001b[1;32m    687\u001b[0m         \u001b[0;32mexcept\u001b[0m \u001b[0mKeyError\u001b[0m \u001b[0;32mas\u001b[0m \u001b[0merr\u001b[0m\u001b[0;34m:\u001b[0m\u001b[0;34m\u001b[0m\u001b[0;34m\u001b[0m\u001b[0m\n\u001b[0;32m--> 688\u001b[0;31m             \u001b[0;32mraise\u001b[0m \u001b[0mKeyError\u001b[0m\u001b[0;34m(\u001b[0m\u001b[0morig_key\u001b[0m\u001b[0;34m)\u001b[0m \u001b[0;32mfrom\u001b[0m \u001b[0merr\u001b[0m\u001b[0;34m\u001b[0m\u001b[0;34m\u001b[0m\u001b[0m\n\u001b[0m\u001b[1;32m    689\u001b[0m \u001b[0;34m\u001b[0m\u001b[0m\n\u001b[1;32m    690\u001b[0m     \u001b[0;32mdef\u001b[0m \u001b[0m_maybe_cast_for_get_loc\u001b[0m\u001b[0;34m(\u001b[0m\u001b[0mself\u001b[0m\u001b[0;34m,\u001b[0m \u001b[0mkey\u001b[0m\u001b[0;34m)\u001b[0m \u001b[0;34m->\u001b[0m \u001b[0mTimestamp\u001b[0m\u001b[0;34m:\u001b[0m\u001b[0;34m\u001b[0m\u001b[0;34m\u001b[0m\u001b[0m\n",
      "\u001b[0;31mKeyError\u001b[0m: numpy.datetime64('2015-01-02T15:52:48.000000000')"
     ]
    }
   ],
   "source": [
    "env.orderbook_df.loc[np.datetime64('2015-01-02T15:52:48.000000000')]"
   ]
  },
  {
   "cell_type": "markdown",
   "metadata": {},
   "source": [
    "# MarketReplayEnv Gym Environment + StableBaselines3 Agent"
   ]
  },
  {
   "cell_type": "code",
   "execution_count": 3,
   "metadata": {},
   "outputs": [
    {
     "name": "stdout",
     "output_type": "stream",
     "text": [
      "Using cpu device\n",
      "Wrapping the env in a DummyVecEnv.\n",
      "----------------------------\n",
      "| time/              |     |\n",
      "|    episodes        | 4   |\n",
      "|    fps             | 477 |\n",
      "|    time_elapsed    | 0   |\n",
      "|    total timesteps | 11  |\n",
      "----------------------------\n",
      "----------------------------\n",
      "| time/              |     |\n",
      "|    episodes        | 8   |\n",
      "|    fps             | 530 |\n",
      "|    time_elapsed    | 0   |\n",
      "|    total timesteps | 22  |\n",
      "----------------------------\n",
      "----------------------------\n",
      "| time/              |     |\n",
      "|    episodes        | 12  |\n",
      "|    fps             | 571 |\n",
      "|    time_elapsed    | 0   |\n",
      "|    total timesteps | 36  |\n",
      "----------------------------\n",
      "----------------------------\n",
      "| time/              |     |\n",
      "|    episodes        | 16  |\n",
      "|    fps             | 588 |\n",
      "|    time_elapsed    | 0   |\n",
      "|    total timesteps | 47  |\n",
      "----------------------------\n",
      "----------------------------\n",
      "| time/              |     |\n",
      "|    episodes        | 20  |\n",
      "|    fps             | 603 |\n",
      "|    time_elapsed    | 0   |\n",
      "|    total timesteps | 58  |\n",
      "----------------------------\n",
      "----------------------------\n",
      "| time/              |     |\n",
      "|    episodes        | 24  |\n",
      "|    fps             | 623 |\n",
      "|    time_elapsed    | 0   |\n",
      "|    total timesteps | 70  |\n",
      "----------------------------\n",
      "----------------------------\n",
      "| time/              |     |\n",
      "|    episodes        | 28  |\n",
      "|    fps             | 626 |\n",
      "|    time_elapsed    | 0   |\n",
      "|    total timesteps | 80  |\n",
      "----------------------------\n",
      "----------------------------\n",
      "| time/              |     |\n",
      "|    episodes        | 32  |\n",
      "|    fps             | 622 |\n",
      "|    time_elapsed    | 0   |\n",
      "|    total timesteps | 89  |\n",
      "----------------------------\n",
      "----------------------------\n",
      "| time/              |     |\n",
      "|    episodes        | 36  |\n",
      "|    fps             | 629 |\n",
      "|    time_elapsed    | 0   |\n",
      "|    total timesteps | 100 |\n",
      "----------------------------\n"
     ]
    },
    {
     "name": "stderr",
     "output_type": "stream",
     "text": [
      "/Users/mahmoud/anaconda3/lib/python3.7/site-packages/stable_baselines3/common/policies.py:326: RuntimeWarning: invalid value encountered in multiply\n",
      "  return low + (0.5 * (scaled_action + 1.0) * (high - low))\n"
     ]
    }
   ],
   "source": [
    "SEED = 5422608\n",
    "\n",
    "client_order_info = {\n",
    "    \"direction\": \"BUY\",\n",
    "    \"quantity\": 5000,\n",
    "    \"duration\": 120,\n",
    "    \"benchmark\": \"arrival\"\n",
    "}\n",
    "\n",
    "env = MarketReplayEnv(instrument='AAPL',\n",
    "                      date='2014-06-28',\n",
    "                      frequency='1s',\n",
    "                      num_levels=10,\n",
    "                      client_order_info=client_order_info,\n",
    "                      orderbook_file_path='/Users/mahmoud/_code/_air/lobmod/data/INTC_2015-01-01_2015-01-31_10/INTC_2015-01-02_34200000_57600000_orderbook_10.csv',\n",
    "                      orders_file_path='/Users/mahmoud/_code/_air/lobmod/data/INTC_2015-01-01_2015-01-31_10/INTC_2015-01-05_34200000_57600000_message_10.csv',\n",
    "                      _seed=SEED)\n",
    "\n",
    "model = DDPG(policy='MlpPolicy', env=env, seed=SEED, verbose=1).learn(total_timesteps=100)\n",
    "\n",
    "num_episodes = 10\n",
    "\n",
    "obs = env.reset()\n",
    "for i in range(num_episodes):\n",
    "\n",
    "    action, _states = model.predict(obs)\n",
    "    obs, reward, done, info = env.step(action)\n",
    "\n",
    "    if done:\n",
    "        obs = env.reset()   "
   ]
  },
  {
   "cell_type": "code",
   "execution_count": null,
   "metadata": {},
   "outputs": [],
   "source": []
  }
 ],
 "metadata": {
  "kernelspec": {
   "display_name": "Python 3",
   "language": "python",
   "name": "python3"
  },
  "language_info": {
   "codemirror_mode": {
    "name": "ipython",
    "version": 3
   },
   "file_extension": ".py",
   "mimetype": "text/x-python",
   "name": "python",
   "nbconvert_exporter": "python",
   "pygments_lexer": "ipython3",
   "version": "3.7.3"
  }
 },
 "nbformat": 4,
 "nbformat_minor": 4
}
