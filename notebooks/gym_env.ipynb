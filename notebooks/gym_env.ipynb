{
 "cells": [
  {
   "cell_type": "code",
   "execution_count": 1,
   "metadata": {},
   "outputs": [
    {
     "name": "stdout",
     "output_type": "stream",
     "text": [
      "/Users/mahmoud/_code/gymlob\n"
     ]
    }
   ],
   "source": [
    "cd ../"
   ]
  },
  {
   "cell_type": "code",
   "execution_count": 2,
   "metadata": {},
   "outputs": [],
   "source": [
    "from gymlob.envs.l2_market_replay_env import L2MarketReplayEnv\n",
    "from stable_baselines3 import A2C, DDPG, DQN, HER, PPO, SAC, TD3\n",
    "from stable_baselines3.common.env_checker import check_env\n",
    "\n",
    "import numpy as np\n",
    "import pandas as pd\n",
    "np.set_printoptions(suppress=True)"
   ]
  },
  {
   "cell_type": "markdown",
   "metadata": {},
   "source": [
    "# MarketReplayEnv Gym Environment"
   ]
  },
  {
   "cell_type": "code",
   "execution_count": 3,
   "metadata": {},
   "outputs": [],
   "source": [
    "SEED = 5422608"
   ]
  },
  {
   "cell_type": "code",
   "execution_count": 4,
   "metadata": {},
   "outputs": [],
   "source": [
    "client_order_info = {\n",
    "    \"direction\": \"BUY\",\n",
    "    \"quantity\": 5000,\n",
    "    \"duration\": 120,\n",
    "    \"benchmark\": \"arrival\"\n",
    "}"
   ]
  },
  {
   "cell_type": "code",
   "execution_count": 5,
   "metadata": {},
   "outputs": [
    {
     "name": "stdout",
     "output_type": "stream",
     "text": [
      "CPU times: user 6.04 s, sys: 2.96 s, total: 9.01 s\n",
      "Wall time: 7.5 s\n"
     ]
    }
   ],
   "source": [
    "%%time\n",
    "env = L2MarketReplayEnv(instrument='AAPL',\n",
    "                        date='2014-06-28',\n",
    "                        frequency='1s',\n",
    "                        num_levels=10,\n",
    "                        client_order_info=client_order_info,\n",
    "                        orderbook_file_path='/Users/mahmoud/_code/_air/lobmod/data/INTC_2015-01-01_2015-01-31_10/INTC_2015-01-02_34200000_57600000_orderbook_10.csv',\n",
    "                        orders_file_path='/Users/mahmoud/_code/_air/lobmod/data/INTC_2015-01-01_2015-01-31_10/INTC_2015-01-05_34200000_57600000_message_10.csv',\n",
    "                        _seed=SEED)"
   ]
  },
  {
   "cell_type": "code",
   "execution_count": 6,
   "metadata": {},
   "outputs": [
    {
     "name": "stderr",
     "output_type": "stream",
     "text": [
      "/Users/mahmoud/anaconda3/lib/python3.7/site-packages/stable_baselines3/common/env_checker.py:232: UserWarning: We recommend you to use a symmetric and normalized Box action space (range=[-1, 1]) cf https://stable-baselines3.readthedocs.io/en/master/guide/rl_tips.html\n",
      "  \"We recommend you to use a symmetric and normalized Box action space (range=[-1, 1]) \"\n"
     ]
    }
   ],
   "source": [
    "check_env(env)"
   ]
  },
  {
   "cell_type": "code",
   "execution_count": 7,
   "metadata": {},
   "outputs": [
    {
     "data": {
      "text/plain": [
       "numpy.datetime64('2014-06-28T12:29:56.000000000')"
      ]
     },
     "execution_count": 7,
     "metadata": {},
     "output_type": "execute_result"
    }
   ],
   "source": [
    "env.current_time"
   ]
  },
  {
   "cell_type": "code",
   "execution_count": 8,
   "metadata": {},
   "outputs": [
    {
     "data": {
      "text/plain": [
       "Box(-inf, inf, (4,), float64)"
      ]
     },
     "execution_count": 8,
     "metadata": {},
     "output_type": "execute_result"
    }
   ],
   "source": [
    "env.observation_space"
   ]
  },
  {
   "cell_type": "code",
   "execution_count": 9,
   "metadata": {},
   "outputs": [
    {
     "data": {
      "text/plain": [
       "array([ 53.636284  , 405.04805266,   1.14598426,  -0.56539194])"
      ]
     },
     "execution_count": 9,
     "metadata": {},
     "output_type": "execute_result"
    }
   ],
   "source": [
    "env.observation_space.sample()"
   ]
  },
  {
   "cell_type": "code",
   "execution_count": 10,
   "metadata": {},
   "outputs": [
    {
     "data": {
      "text/plain": [
       "Box(0.0, 5000.0, (1,), float32)"
      ]
     },
     "execution_count": 10,
     "metadata": {},
     "output_type": "execute_result"
    }
   ],
   "source": [
    "env.action_space"
   ]
  },
  {
   "cell_type": "code",
   "execution_count": 11,
   "metadata": {},
   "outputs": [
    {
     "data": {
      "text/plain": [
       "array([3170.7761], dtype=float32)"
      ]
     },
     "execution_count": 11,
     "metadata": {},
     "output_type": "execute_result"
    }
   ],
   "source": [
    "env.action_space.sample()"
   ]
  },
  {
   "cell_type": "code",
   "execution_count": 12,
   "metadata": {},
   "outputs": [
    {
     "data": {
      "text/plain": [
       "array([ 120.        , 5000.        ,    0.01      ,   -0.76056337])"
      ]
     },
     "execution_count": 12,
     "metadata": {},
     "output_type": "execute_result"
    }
   ],
   "source": [
    "env.reset()"
   ]
  },
  {
   "cell_type": "code",
   "execution_count": 13,
   "metadata": {},
   "outputs": [
    {
     "name": "stdout",
     "output_type": "stream",
     "text": [
      "Episode: 1\n",
      "Step: 1\n",
      "     Observation: [119.         482.           0.01         0.54529136], Action: [4518.99], Reward: -22.590000000011557\n",
      "Step: 2\n",
      "     Observation: [118.          92.           0.01         0.59796619], Action: [390.7855], Reward: -1.9500000000009976\n",
      "Step: 3\n",
      "     Observation: [1.17000000e+02 4.29496344e+09 9.99999978e-03 4.77319390e-01], Action: [3944.7068], Reward: -19.72000000001009\n",
      "\n",
      "Episode: 2\n",
      "Step: 1\n",
      "     Observation: [ 119.         2018.            0.01         -0.24971457], Action: [2982.7068], Reward: -21.73000000000627\n",
      "Step: 2\n",
      "     Observation: [118.         548.           0.01        -0.24971457], Action: [1470.3767], Reward: -7.35000000000376\n",
      "Step: 3\n",
      "     Observation: [ 1.17000000e+02  4.29496327e+09  9.99999978e-03 -2.49714568e-01], Action: [4570.7256], Reward: -45.550000000007174\n",
      "\n"
     ]
    }
   ],
   "source": [
    "# test random agent\n",
    "\n",
    "num_episodes = 2\n",
    "\n",
    "for i in range(1, num_episodes+1):\n",
    "    print(f\"Episode: {i}\")\n",
    "    obs = env.reset()\n",
    "    done = False\n",
    "    step = 1\n",
    "    while not done:\n",
    "        action = env.action_space.sample()\n",
    "        obs, reward, done, info = env.step(action)\n",
    "        print(f\"Step: {step}\")\n",
    "        print(f\"     Observation: {obs}, Action: {action}, Reward: {reward}\")\n",
    "        step += 1\n",
    "    print()"
   ]
  },
  {
   "cell_type": "markdown",
   "metadata": {},
   "source": [
    "# MarketReplayEnv Gym Environment + StableBaselines3 Agent"
   ]
  },
  {
   "cell_type": "markdown",
   "metadata": {},
   "source": [
    "SEED = 5422608\n",
    "\n",
    "client_order_info = {\n",
    "    \"direction\": \"BUY\",\n",
    "    \"quantity\": 5000,\n",
    "    \"duration\": 120,\n",
    "    \"benchmark\": \"arrival\"\n",
    "}\n",
    "\n",
    "env = L2MarketReplayEnv(instrument='AAPL',\n",
    "                        date='2014-06-28',\n",
    "                        frequency='1s',\n",
    "                        num_levels=10,\n",
    "                        client_order_info=client_order_info,\n",
    "                        orderbook_file_path='/Users/mahmoud/_code/_air/lobmod/data/INTC_2015-01-01_2015-01-31_10/INTC_2015-01-02_34200000_57600000_orderbook_10.csv',\n",
    "                        orders_file_path='/Users/mahmoud/_code/_air/lobmod/data/INTC_2015-01-01_2015-01-31_10/INTC_2015-01-05_34200000_57600000_message_10.csv',\n",
    "                       _seed=SEED)\n",
    "\n",
    "model = DDPG(policy='MlpPolicy', env=env, seed=SEED, verbose=1).learn(total_timesteps=100)\n",
    "\n",
    "num_episodes = 10\n",
    "       \n",
    "for i in range(1, num_episodes+1):\n",
    "    print(f\"Episode: {i}\")\n",
    "    obs = env.reset()\n",
    "    done = False\n",
    "    step = 1\n",
    "    while not done:\n",
    "        action, _states = model.predict(obs)\n",
    "        obs, reward, done, info = env.step(action)\n",
    "        print(f\"Step: {step}\")\n",
    "        print(f\"     Observation: {obs}, Action: {action}, Reward: {reward}\")\n",
    "        step += 1\n",
    "    print()"
   ]
  },
  {
   "cell_type": "code",
   "execution_count": 17,
   "metadata": {},
   "outputs": [],
   "source": [
    "state = env.reset()"
   ]
  },
  {
   "cell_type": "code",
   "execution_count": 18,
   "metadata": {},
   "outputs": [
    {
     "data": {
      "text/plain": [
       "array([ 120.       , 5000.       ,    0.02     ,    0.2647059])"
      ]
     },
     "execution_count": 18,
     "metadata": {},
     "output_type": "execute_result"
    }
   ],
   "source": [
    "state"
   ]
  },
  {
   "cell_type": "code",
   "execution_count": 19,
   "metadata": {},
   "outputs": [],
   "source": [
    "time_remaining, quantity_remaining, spread, ovi = state"
   ]
  },
  {
   "cell_type": "code",
   "execution_count": 20,
   "metadata": {},
   "outputs": [
    {
     "data": {
      "text/plain": [
       "120.0"
      ]
     },
     "execution_count": 20,
     "metadata": {},
     "output_type": "execute_result"
    }
   ],
   "source": [
    "time_remaining"
   ]
  },
  {
   "cell_type": "code",
   "execution_count": null,
   "metadata": {},
   "outputs": [],
   "source": []
  }
 ],
 "metadata": {
  "kernelspec": {
   "display_name": "Python 3",
   "language": "python",
   "name": "python3"
  },
  "language_info": {
   "codemirror_mode": {
    "name": "ipython",
    "version": 3
   },
   "file_extension": ".py",
   "mimetype": "text/x-python",
   "name": "python",
   "nbconvert_exporter": "python",
   "pygments_lexer": "ipython3",
   "version": "3.7.3"
  }
 },
 "nbformat": 4,
 "nbformat_minor": 4
}
